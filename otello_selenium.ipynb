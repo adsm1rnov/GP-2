{
 "cells": [
  {
   "cell_type": "markdown",
   "metadata": {},
   "source": [
    "# Парсинг с использованием selenium. Otello\n",
    "Ссылка на сайт: otello.ru"
   ]
  },
  {
   "cell_type": "code",
   "execution_count": 1,
   "metadata": {},
   "outputs": [],
   "source": [
    "from selenium import webdriver\n",
    "from selenium.webdriver.chrome.service import Service\n",
    "from selenium.webdriver.chrome.options import Options\n",
    "from selenium.webdriver.common.by import By\n",
    "from selenium.webdriver.common.keys import Keys\n",
    "from selenium.webdriver.support.ui import WebDriverWait\n",
    "from selenium.webdriver.support import expected_conditions as EC\n",
    "import time\n",
    "from selenium.webdriver.common.action_chains import ActionChains\n"
   ]
  },
  {
   "cell_type": "markdown",
   "metadata": {},
   "source": [
    "На сайте otello.ru мы нашли следующую особенность: хотя парсинг отдельных страниц отелей очень простой и понятный, нахождение ссылок на эти страниц является неочевидной задачей - нельзя напрямую через просмотр html-кода страницы получить все ссылки. \n",
    "\n",
    "Мы уже нашли решение это проблемы - использование API-сервиса для нахождения внутренних ссылок. Попробуем рассмотреть другой способ - использование библиотеки selenium. selenium позволяет загружать страницы, которые используют JavaScript для динамической подгрузки контента"
   ]
  },
  {
   "cell_type": "markdown",
   "metadata": {},
   "source": [
    "Напишем простой скрипт, который просто открывает главную страницу с отелями в Москве и выгружает все возможные файлы "
   ]
  },
  {
   "cell_type": "code",
   "execution_count": 9,
   "metadata": {},
   "outputs": [
    {
     "name": "stdout",
     "output_type": "stream",
     "text": [
      "HTML-код сохранен\n"
     ]
    }
   ],
   "source": [
    "\n",
    "chrome_options = Options()\n",
    "chrome_options.add_argument(\"--headless\")  \n",
    "service = Service('chromedriver.exe')\n",
    "\n",
    "driver = webdriver.Chrome(service=service, options=chrome_options)\n",
    "\n",
    "try:\n",
    "     \n",
    "    driver.get(\"https://otello.ru/hotels/moskva\")\n",
    "    time.sleep(5) \n",
    "    html_content = driver.page_source\n",
    "\n",
    "    with open(\"otello_moskva_selenium.html\", \"w\", encoding=\"utf-8\") as file:\n",
    "        file.write(html_content)\n",
    "\n",
    "    print(\"HTML-код сохранен\")\n",
    "\n",
    "finally:\n",
    "    driver.quit()"
   ]
  },
  {
   "cell_type": "markdown",
   "metadata": {},
   "source": [
    "В загруженном html-файле было найдено всего 80 отелей. Для Москвы это очень мало, но в этом нет проблемы otello - дело в том, что сайт не может загрузить на страницу сразу все тысячи отелей сразу, иначе бы страница грузилась очень долго. Обычно, догрузка происходит во время того, как пользователь скроллит вниз или нажимает на кнопки по типу \"Загрузить еще\". Otello одновременно использует оба таких подхода - нам надо воссоздать данное поведение с помощью дополнительных инструментов selenium"
   ]
  },
  {
   "cell_type": "code",
   "execution_count": 2,
   "metadata": {},
   "outputs": [],
   "source": [
    "import logging\n",
    "logger = logging.getLogger()\n",
    "fhandler = logging.FileHandler(filename='otello_selenium.log', mode='a')\n",
    "formatter = logging.Formatter('%(asctime)s - %(name)s - %(levelname)s - %(message)s')\n",
    "fhandler.setFormatter(formatter)\n",
    "logger.addHandler(fhandler)\n",
    "logger.setLevel(logging.INFO)"
   ]
  },
  {
   "cell_type": "code",
   "execution_count": 8,
   "metadata": {},
   "outputs": [],
   "source": [
    "chrome_options = Options()\n",
    "# chrome_options.add_argument(\"--headless\")  \n",
    "service = Service('chromedriver.exe')\n",
    "\n",
    "driver = webdriver.Chrome(service=service, options=chrome_options)\n",
    "\n",
    "try:\n",
    "    logging.info(\"Открытие страницы https://otello.ru/hotels/moskva\")\n",
    "    driver.get(\"https://otello.ru/hotels/moskva\") \n",
    "    wait = WebDriverWait(driver, 5)\n",
    "\n",
    "    # Закрываем баннер\n",
    "    try:\n",
    "        close_banner_button = wait.until(EC.element_to_be_clickable((By.XPATH, \"//button[@data-n='wat-welcome-popup-close-button']\")))\n",
    "        close_banner_button.click()\n",
    "        logging.info(\"Баннер закрыт.\")\n",
    "    except Exception as e:\n",
    "        logging.error(f\"Ошибка при закрытии баннера: {e}\")\n",
    "    \n",
    "    time.sleep(2)  \n",
    "    \n",
    "    # Активируем панель с отелями\n",
    "    try:\n",
    "        action = ActionChains(driver)\n",
    "        action.move_by_offset(0, 75).click().perform()\n",
    "        logging.info(\"Окно активировано\")\n",
    "    except Exception as e:\n",
    "        logging.error(f\"Ошибка при активации окна: {e}\")\n",
    "    \n",
    "    # Первичный скроллинг\n",
    "    logging.info(\"Начинаем первичный скроллинг страницы...\")\n",
    "    end_time = time.time() + 30\n",
    "    try:\n",
    "        while time.time() < end_time:\n",
    "            driver.find_element(By.TAG_NAME, \"body\").send_keys(Keys.PAGE_DOWN)\n",
    "            time.sleep(2)\n",
    "        logging.info(\"Первичный скроллинг завершен.\")\n",
    "    except Exception as e:\n",
    "        logging.error(f\"Ошибка при скроллинге: {e}\")\n",
    "    \n",
    "    # Нажимаем 'Показать все'\n",
    "    try:\n",
    "        show_all_button = wait.until(EC.element_to_be_clickable((By.XPATH, \"//button[@data-n='wat-hub-show-all-button']\")))\n",
    "        show_all_button.click()\n",
    "        logging.info(\"Кнопка 'Показать все' нажата.\")\n",
    "    except Exception as e:\n",
    "        logging.error(f\"Ошибка при нажатии кнопки 'Показать все': {e}\")\n",
    "    \n",
    "    time.sleep(5)\n",
    "    \n",
    "    # Еще раз активируем экран\n",
    "    try:\n",
    "        action.move_by_offset(0, 75).click().perform()  \n",
    "        logging.info(\"Окно активировано\")\n",
    "    except Exception as e:\n",
    "        logging.error(f\"Ошибка при повторной активации окна: {e}\")\n",
    "    \n",
    "    end_time = time.time() + 300\n",
    "    collected_links = set()\n",
    "\n",
    "    logging.info(\"Начинаем сбор ссылок: \")\n",
    "    \n",
    "    try:\n",
    "        while time.time() < end_time:\n",
    "            driver.find_element(By.TAG_NAME, \"body\").send_keys(Keys.PAGE_DOWN)\n",
    "            time.sleep(2)\n",
    "            \n",
    "            hotel_links = driver.find_elements(By.XPATH, \"//a[starts-with(@href, '/hotel/') and @draggable='false']\")\n",
    "            \n",
    "            for link in hotel_links:\n",
    "                url = link.get_attribute(\"href\")\n",
    "                if url and url not in collected_links:\n",
    "                    collected_links.add(url)\n",
    "                    # print(url)\n",
    "                    logging.info(f\"Собрана ссылка: {url}\")\n",
    "    except Exception as e:\n",
    "        logging.error(f\"Ошибка при сборе ссылок: {e}\")\n",
    "    \n",
    "    logging.info(f\"Собрано {len(collected_links)} ссылок на отели.\")\n",
    "    \n",
    "    # Сохраняем HTML-код\n",
    "    try:\n",
    "        html_content = driver.page_source\n",
    "        with open(\"otello_moskva_selenium_full.html\", \"w\", encoding=\"utf-8\") as file:\n",
    "            file.write(html_content)\n",
    "        logging.info(\"HTML-код сохранен\")\n",
    "    except Exception as e:\n",
    "        logging.error(f\"Ошибка при сохранении HTML-кода: {e}\")\n",
    "    \n",
    "finally:\n",
    "    driver.quit()\n",
    "    logging.info(\"Веб-драйвер закрыт\")\n"
   ]
  },
  {
   "cell_type": "markdown",
   "metadata": {},
   "source": [
    "За пять минут было собрано всего около 160 ссылок... 10 619 ссылок, которые мы ранее получили с помощью API, будут делаться как минимум за час! Еще надо учитывать, что мы только получили информацию по Москве. Для получения информации по всей России нам потребуется вручную искать города с большим числом отелей и повторно запускать скрипт   "
   ]
  },
  {
   "cell_type": "markdown",
   "metadata": {},
   "source": [
    "В данном проекте мы использовали selenium как один из способов добычи данных. Но рабочим вариантом для сайта otello является извлечение информации по открытому API"
   ]
  }
 ],
 "metadata": {
  "kernelspec": {
   "display_name": "Python 3.7.4 ('base')",
   "language": "python",
   "name": "python3"
  },
  "language_info": {
   "codemirror_mode": {
    "name": "ipython",
    "version": 3
   },
   "file_extension": ".py",
   "mimetype": "text/x-python",
   "name": "python",
   "nbconvert_exporter": "python",
   "pygments_lexer": "ipython3",
   "version": "3.7.4"
  },
  "orig_nbformat": 4,
  "vscode": {
   "interpreter": {
    "hash": "39538f899fd65e03f49a76eb14d719a997a70d5eb8d123eeddf1f39d70ad3c31"
   }
  }
 },
 "nbformat": 4,
 "nbformat_minor": 2
}
