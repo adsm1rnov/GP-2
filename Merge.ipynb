{
  "nbformat": 4,
  "nbformat_minor": 0,
  "metadata": {
    "colab": {
      "provenance": []
    },
    "kernelspec": {
      "name": "python3",
      "display_name": "Python 3"
    },
    "language_info": {
      "name": "python"
    }
  },
  "cells": [
    {
      "cell_type": "code",
      "execution_count": 14,
      "metadata": {
        "id": "k77rrHnHvPqp"
      },
      "outputs": [],
      "source": [
        "import pandas as pd\n",
        "import numpy as np\n"
      ]
    },
    {
      "cell_type": "code",
      "source": [
        "hotellook = pd.read_csv('hotellook_cleaned.csv')\n",
        "opentrip = pd.read_csv('opentripmap_cleaned.csv')\n",
        "otello = pd.read_csv('otello_cleaned.csv')"
      ],
      "metadata": {
        "id": "Uru_DDgPx53O"
      },
      "execution_count": 15,
      "outputs": []
    },
    {
      "cell_type": "code",
      "source": [
        "hotellook['source'] = 'hotellook'\n",
        "otello['source'] = 'otello'"
      ],
      "metadata": {
        "id": "dlmJEFTJpiuO"
      },
      "execution_count": 13,
      "outputs": []
    },
    {
      "cell_type": "code",
      "source": [
        "# Приводим названия к нижнему регистру и убираем лишние пробелы\n",
        "hotellook['name_clean'] = hotellook['name'].str.lower().str.strip()\n",
        "otello['name_clean'] = otello['name'].str.lower().str.strip()"
      ],
      "metadata": {
        "id": "4YjRiPEhpo9W"
      },
      "execution_count": 16,
      "outputs": []
    },
    {
      "cell_type": "code",
      "source": [
        "# Округляем координаты до 2 знаков после запятой (это примерно 1 км, можно подобрать по ситуации)\n",
        "hotellook['lat_round'] = hotellook['latitude'].round(2)\n",
        "hotellook['lon_round'] = hotellook['longitude'].round(2)\n",
        "otello['lat_round'] = otello['latitude'].round(2)\n",
        "otello['lon_round'] = otello['longitude'].round(2)\n",
        "\n",
        "# Создаем ключ для группировки по округленным координатам\n",
        "hotellook['geo_key'] = hotellook['lat_round'].astype(str) + \"_\" + hotellook['lon_round'].astype(str)\n",
        "otello['geo_key'] = otello['lat_round'].astype(str) + \"_\" + otello['lon_round'].astype(str)"
      ],
      "metadata": {
        "id": "3TCOeEqap7Yw"
      },
      "execution_count": 17,
      "outputs": []
    },
    {
      "cell_type": "code",
      "source": [
        "!pip install rapidfuzz"
      ],
      "metadata": {
        "colab": {
          "base_uri": "https://localhost:8080/"
        },
        "id": "vFFE-3AQqqgG",
        "outputId": "1783563a-0d04-4fb4-f98c-f88d7b757994"
      },
      "execution_count": 19,
      "outputs": [
        {
          "output_type": "stream",
          "name": "stdout",
          "text": [
            "Collecting rapidfuzz\n",
            "  Downloading rapidfuzz-3.12.2-cp311-cp311-manylinux_2_17_x86_64.manylinux2014_x86_64.whl.metadata (12 kB)\n",
            "Downloading rapidfuzz-3.12.2-cp311-cp311-manylinux_2_17_x86_64.manylinux2014_x86_64.whl (3.1 MB)\n",
            "\u001b[2K   \u001b[90m━━━━━━━━━━━━━━━━━━━━━━━━━━━━━━━━━━━━━━━━\u001b[0m \u001b[32m3.1/3.1 MB\u001b[0m \u001b[31m20.2 MB/s\u001b[0m eta \u001b[36m0:00:00\u001b[0m\n",
            "\u001b[?25hInstalling collected packages: rapidfuzz\n",
            "Successfully installed rapidfuzz-3.12.2\n"
          ]
        }
      ]
    },
    {
      "cell_type": "code",
      "source": [
        "from rapidfuzz import fuzz"
      ],
      "metadata": {
        "id": "fKc5w83OqpY4"
      },
      "execution_count": 20,
      "outputs": []
    },
    {
      "cell_type": "code",
      "source": [
        "df_all = pd.concat([hotellook, otello], ignore_index=True)\n",
        "print(\"Размер объединенного датасета до дедупликации:\", df_all.shape)\n",
        "\n",
        "# Удаление дубликатов\n",
        "# Для каждой группы по geo_key будем сравнивать названия и считать дубликатом, если схожесть >= threshold.\n",
        "threshold = 85\n",
        "indices_to_drop = set()\n",
        "\n",
        "for key, group in df_all.groupby('geo_key'):\n",
        "    # Если в группе больше одной записи, начинается процесс поиска дубликатов\n",
        "    if len(group) > 1:\n",
        "        seen_indices = []\n",
        "        # Проходим по индексам группы\n",
        "        for idx in group.index:\n",
        "            current_name = df_all.at[idx, 'name_clean']\n",
        "            duplicate_found = False\n",
        "            # Сравниваем с уже просмотренными записями в данной группе\n",
        "            for seen_idx in seen_indices:\n",
        "                seen_name = df_all.at[seen_idx, 'name_clean']\n",
        "                # Вычисляем сходство между current_name и seen_name с помощью fuzz.token_set_ratio (токенизация названия + рассчет расстояния Левенштейна)\n",
        "                score = fuzz.token_set_ratio(current_name, seen_name)\n",
        "                if score >= threshold:\n",
        "                    duplicate_found = True\n",
        "                    break\n",
        "            if duplicate_found:\n",
        "                indices_to_drop.add(idx)\n",
        "            else:\n",
        "                seen_indices.append(idx)"
      ],
      "metadata": {
        "colab": {
          "base_uri": "https://localhost:8080/"
        },
        "id": "10CHrYixqJV3",
        "outputId": "c1bc1be1-232f-479a-8d0f-7e97d1b5879d"
      },
      "execution_count": 33,
      "outputs": [
        {
          "output_type": "stream",
          "name": "stdout",
          "text": [
            "Размер объединенного датасета до дедупликации: (52181, 37)\n"
          ]
        }
      ]
    },
    {
      "cell_type": "code",
      "source": [
        "df_merged = df_all.drop(index=list(indices_to_drop)).reset_index(drop=True)\n",
        "print(\"Размер объединенного датасета после дедупликации:\", df_merged.shape)\n",
        "\n",
        "df_merged.to_csv('merged_hotels.csv', index=False)"
      ],
      "metadata": {
        "colab": {
          "base_uri": "https://localhost:8080/"
        },
        "id": "Pjeh7ykHq2h2",
        "outputId": "6905066d-77d7-4264-8b09-a868add26728"
      },
      "execution_count": 34,
      "outputs": [
        {
          "output_type": "stream",
          "name": "stdout",
          "text": [
            "Размер объединенного датасета после дедупликации: (23218, 37)\n"
          ]
        }
      ]
    },
    {
      "cell_type": "code",
      "source": [
        "df_merged.info()"
      ],
      "metadata": {
        "colab": {
          "base_uri": "https://localhost:8080/"
        },
        "id": "eyODCpnis-Oi",
        "outputId": "2fc07e86-4a29-4f19-93ba-3ed98b0b99dc"
      },
      "execution_count": 35,
      "outputs": [
        {
          "output_type": "stream",
          "name": "stdout",
          "text": [
            "<class 'pandas.core.frame.DataFrame'>\n",
            "RangeIndex: 23218 entries, 0 to 23217\n",
            "Data columns (total 37 columns):\n",
            " #   Column              Non-Null Count  Dtype  \n",
            "---  ------              --------------  -----  \n",
            " 0   id                  21001 non-null  float64\n",
            " 1   name                19217 non-null  object \n",
            " 2   address             20922 non-null  object \n",
            " 3   location_id         21001 non-null  object \n",
            " 4   latitude            23218 non-null  float64\n",
            " 5   longitude           23218 non-null  float64\n",
            " 6   stars               21001 non-null  float64\n",
            " 7   rating              21001 non-null  float64\n",
            " 8   reviews_count       21001 non-null  float64\n",
            " 9   min_price           21001 non-null  float64\n",
            " 10  distance_to_center  21001 non-null  float64\n",
            " 11  property_type       21001 non-null  object \n",
            " 12  photos_count        21001 non-null  float64\n",
            " 13  amenities           9602 non-null   object \n",
            " 14  badges              1350 non-null   object \n",
            " 15  check_in            0 non-null      float64\n",
            " 16  check_out           0 non-null      float64\n",
            " 17  popularity          21001 non-null  float64\n",
            " 18  popularity2         21001 non-null  float64\n",
            " 19  trending_speed      21001 non-null  float64\n",
            " 20  pois_distances      21000 non-null  object \n",
            " 21  weights             21001 non-null  float64\n",
            " 22  district_name       21001 non-null  object \n",
            " 23  name_clean          19217 non-null  object \n",
            " 24  lat_round           23218 non-null  float64\n",
            " 25  lon_round           23218 non-null  float64\n",
            " 26  geo_key             23218 non-null  object \n",
            " 27  checkinTime         2217 non-null   object \n",
            " 28  checkoutTime        2217 non-null   object \n",
            " 29  amenityFeature      2217 non-null   object \n",
            " 30  address_Locality    2217 non-null   object \n",
            " 31  street_Address      2217 non-null   object \n",
            " 32  Otello_starRating   2217 non-null   float64\n",
            " 33  Otello_ratingValue  2217 non-null   float64\n",
            " 34  Otello_ratingCount  2217 non-null   float64\n",
            " 35  Otello_bestRating   2217 non-null   float64\n",
            " 36  Otello_worstRating  2217 non-null   float64\n",
            "dtypes: float64(22), object(15)\n",
            "memory usage: 6.6+ MB\n"
          ]
        }
      ]
    },
    {
      "cell_type": "code",
      "source": [
        "df_merged.columns"
      ],
      "metadata": {
        "colab": {
          "base_uri": "https://localhost:8080/"
        },
        "id": "tfW2O_6ptKC3",
        "outputId": "a1b1dd7a-bd2e-438b-bc4a-b934d4b82956"
      },
      "execution_count": 37,
      "outputs": [
        {
          "output_type": "execute_result",
          "data": {
            "text/plain": [
              "Index(['id', 'name', 'address', 'location_id', 'latitude', 'longitude',\n",
              "       'stars', 'rating', 'reviews_count', 'min_price', 'distance_to_center',\n",
              "       'property_type', 'photos_count', 'amenities', 'badges', 'check_in',\n",
              "       'check_out', 'popularity', 'popularity2', 'trending_speed',\n",
              "       'pois_distances', 'weights', 'district_name', 'name_clean', 'lat_round',\n",
              "       'lon_round', 'geo_key', 'checkinTime', 'checkoutTime', 'amenityFeature',\n",
              "       'address_Locality', 'street_Address', 'Otello_starRating',\n",
              "       'Otello_ratingValue', 'Otello_ratingCount', 'Otello_bestRating',\n",
              "       'Otello_worstRating'],\n",
              "      dtype='object')"
            ]
          },
          "metadata": {},
          "execution_count": 37
        }
      ]
    }
  ]
}